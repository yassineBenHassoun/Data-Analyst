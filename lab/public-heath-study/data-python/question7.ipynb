{
 "cells": [
  {
   "cell_type": "code",
   "execution_count": 7,
   "metadata": {},
   "outputs": [],
   "source": [
    "import pandas as pd\n",
    "import numpy as np\n",
    "\n",
    "\n",
    "SousAlimentation = pd.read_csv(\"/Users/yassine/Desktop/data-python/fr_sousalimentation.csv\")\n",
    "SousAlimentation['Valeur'].dropna(axis=0)\n",
    "populationCsvToArray = pd.read_csv(\"/Users/yassine/Desktop/data-python/fr_population.csv\", sep=',')\n",
    "populationBydate = populationCsvToArray.loc[populationCsvToArray['Année'] == 2013]\n",
    "filtered_df = populationBydate[(populationBydate['Code zone'] != 96) & (populationBydate['Code zone'] != 41) & (populationBydate['Code zone'] != 128) & (populationBydate['Code zone'] != 214)]\n",
    "populationRemoveDuplicateByCountries =  filtered_df.drop_duplicates(subset='Code zone', keep=\"last\")\n",
    "populationRemoveDuplicateByCountries.rename(columns={'Zone':'Pays'}, inplace=True)\n",
    "dropPop = populationRemoveDuplicateByCountries.drop(['Élément','Code Produit','Symbole','Domaine','Code Domaine','Code Élément','Code année','Description du Symbole'], axis=1)\n",
    "dropPop['Population'] = dropPop['Valeur'] * 1000\n",
    "countries = dropPop\n",
    "population = countries['Valeur']"
   ]
  },
  {
   "cell_type": "code",
   "execution_count": null,
   "metadata": {},
   "outputs": [],
   "source": [
    "NB_KCAL_PER_CAPITA_PER_DAY = 2500\n",
    "KG_PROT_PER_CAPITA_PER_DAY = 62 * .9 * .001\n",
    "YEAR = 2013\n",
    "population = SousAlimentation.loc[YEAR, \"dom_sup_kcal\"] / 365 / NB_KCAL_PER_CAPITA_PER_DAY\n",
    "print(\"Population potentiellement nourrie par la disponibilité intérieure en produits issus de végétaux\".format(round(population/1000000000,2), round(100*population/total_pop[YEAR])))\n",
    "population = SousAlimentation.loc[YEAR, \"dom_sup_kgprot\"] / 365 / KG_PROT_PER_CAPITA_PER_DAY\n",
    "print(\"Population potentiellement nourrie par la disponibilité intérieure en produits issus de végétaux (en termes de protéines\".format(round(population/1000000000,2), round(100*population/total_pop[YEAR])))"
   ]
  },
  {
   "cell_type": "code",
   "execution_count": null,
   "metadata": {},
   "outputs": [],
   "source": []
  }
 ],
 "metadata": {
  "kernelspec": {
   "display_name": "Python 3",
   "language": "python",
   "name": "python3"
  },
  "language_info": {
   "codemirror_mode": {
    "name": "ipython",
    "version": 3
   },
   "file_extension": ".py",
   "mimetype": "text/x-python",
   "name": "python",
   "nbconvert_exporter": "python",
   "pygments_lexer": "ipython3",
   "version": "3.8.3"
  }
 },
 "nbformat": 4,
 "nbformat_minor": 4
}
