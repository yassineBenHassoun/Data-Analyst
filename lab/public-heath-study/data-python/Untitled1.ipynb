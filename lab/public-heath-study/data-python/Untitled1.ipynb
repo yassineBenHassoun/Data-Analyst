{
 "cells": [
  {
   "cell_type": "code",
   "execution_count": 6,
   "metadata": {},
   "outputs": [
    {
     "data": {
      "text/plain": [
       "2.09259351357933"
      ]
     },
     "execution_count": 6,
     "metadata": {},
     "output_type": "execute_result"
    }
   ],
   "source": [
    "import pandas as pd\n",
    "import numpy as np\n",
    "\n",
    "\n",
    "vegetauxCsv = pd.read_csv(\"/Users/yassine/Desktop/data-python/fr_vegetaux.csv\")\n",
    "dateV = vegetauxCsv.loc[vegetauxCsv['Année'] == 2013]\n",
    "rcpVegetaux = dateV.drop(['Année','Code Produit','Symbole','Domaine','Code Domaine','Code Élément','Code année','Description du Symbole'], axis=1)\n",
    "vegeKCAL = rcpVegetaux[rcpVegetaux['Élément'] == 'Disponibilité alimentaire (Kcal/personne/jour)']\n",
    "vegeKCAL = vegeKCAL.loc[rcpVegetaux['Valeur'] !=  0]\n",
    "vegetauxKCAL = vegeKCAL['Valeur'].sum()\n",
    "vegetauxKCALPerYear = vegetauxKCAL * 365\n",
    "\n",
    "\n",
    "\n",
    "populationCsvToArray = pd.read_csv(\"/Users/yassine/Desktop/data-python/fr_population.csv\", sep=',')\n",
    "populationBydate = populationCsvToArray.loc[populationCsvToArray['Année'] == 2013]\n",
    "filtered_df = populationBydate[(populationBydate['Code zone'] != 96) & (populationBydate['Code zone'] != 41) & (populationBydate['Code zone'] != 128) & (populationBydate['Code zone'] != 214)]\n",
    "populationRemoveDuplicateByCountries =  filtered_df.drop_duplicates(subset='Code zone', keep=\"last\")\n",
    "populationRemoveDuplicateByCountries.rename(columns={'Zone':'Pays'}, inplace=True)\n",
    "dropPop = populationRemoveDuplicateByCountries.drop(['Élément','Code Produit','Symbole','Domaine','Code Domaine','Code Élément','Code année','Description du Symbole'], axis=1)\n",
    "dropPop['Population'] = dropPop['Valeur'] * 1000\n",
    "countries = dropPop\n",
    "\n",
    "\n",
    "\n",
    "sumPopulation = countries['Population'].sum()\n",
    "pourcentKcaal = (vegetauxKCALPerYear / sumPopulation) * 100\n",
    "#pourcentKcalVegetaux = 100 * (nbPersonneVegetauxKCAL / sumPopulation)\n",
    "\n",
    "\n",
    "vegeProtein = rcpVegetaux[rcpVegetaux['Élément'] == 'Disponibilité de protéines en quantité (g/personne/jour)']\n",
    "vegeProteinSumPerY = vegeProtein['Valeur'].sum() * 365\n",
    "nbVegeProtein = vegeProteinSumPerY / 54\n",
    "\n",
    "pourcentGProteinVegetaux = 100 * (nbVegeProtein / sumPopulation)\n",
    "\n",
    "\n",
    "pop = vegetauxKCALPerYear / 365 / 2500\n",
    "\n",
    "\n",
    "KG_PROT_PER_CAPITA_PER_DAY = 62 * 0.2 * .001\n",
    "\n",
    "pourcentKcaal"
   ]
  },
  {
   "cell_type": "code",
   "execution_count": null,
   "metadata": {},
   "outputs": [],
   "source": []
  }
 ],
 "metadata": {
  "kernelspec": {
   "display_name": "Python 3",
   "language": "python",
   "name": "python3"
  },
  "language_info": {
   "codemirror_mode": {
    "name": "ipython",
    "version": 3
   },
   "file_extension": ".py",
   "mimetype": "text/x-python",
   "name": "python",
   "nbconvert_exporter": "python",
   "pygments_lexer": "ipython3",
   "version": "3.8.3"
  }
 },
 "nbformat": 4,
 "nbformat_minor": 4
}
