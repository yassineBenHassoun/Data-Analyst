{
 "cells": [
  {
   "cell_type": "code",
   "execution_count": 1,
   "metadata": {},
   "outputs": [],
   "source": [
    "import pandas as pd\n",
    "import numpy as np"
   ]
  },
  {
   "cell_type": "code",
   "execution_count": 2,
   "metadata": {},
   "outputs": [
    {
     "data": {
      "text/plain": [
       "'/lab/public-heath-study/data-python'"
      ]
     },
     "execution_count": 2,
     "metadata": {},
     "output_type": "execute_result"
    }
   ],
   "source": [
    "pwd"
   ]
  },
  {
   "cell_type": "markdown",
   "metadata": {},
   "source": [
    "## Question 1\n",
    "Donnez le résultat de votre calcul pour l'année 2013\n"
   ]
  },
  {
   "cell_type": "code",
   "execution_count": 3,
   "metadata": {},
   "outputs": [
    {
     "ename": "FileNotFoundError",
     "evalue": "[Errno 2] No such file or directory: '/Users/yassine/Desktop/data-python/fr_population.csv'",
     "output_type": "error",
     "traceback": [
      "\u001b[0;31m---------------------------------------------------------------------------\u001b[0m",
      "\u001b[0;31mFileNotFoundError\u001b[0m                         Traceback (most recent call last)",
      "\u001b[0;32m<ipython-input-3-d2cd58374fb0>\u001b[0m in \u001b[0;36m<module>\u001b[0;34m\u001b[0m\n\u001b[0;32m----> 1\u001b[0;31m \u001b[0mpop\u001b[0m\u001b[0;34m=\u001b[0m\u001b[0mpd\u001b[0m\u001b[0;34m.\u001b[0m\u001b[0mread_csv\u001b[0m\u001b[0;34m(\u001b[0m\u001b[0;34m\"/Users/yassine/Desktop/data-python/fr_population.csv\"\u001b[0m\u001b[0;34m)\u001b[0m\u001b[0;34m\u001b[0m\u001b[0;34m\u001b[0m\u001b[0m\n\u001b[0m\u001b[1;32m      2\u001b[0m \u001b[0mpop\u001b[0m\u001b[0;34m=\u001b[0m\u001b[0mpop\u001b[0m\u001b[0;34m[\u001b[0m\u001b[0;34m[\u001b[0m\u001b[0;34m'Zone'\u001b[0m\u001b[0;34m,\u001b[0m\u001b[0;34m'Valeur'\u001b[0m\u001b[0;34m,\u001b[0m\u001b[0;34m'Code zone'\u001b[0m\u001b[0;34m]\u001b[0m\u001b[0;34m]\u001b[0m\u001b[0;34m\u001b[0m\u001b[0;34m\u001b[0m\u001b[0m\n\u001b[1;32m      3\u001b[0m \u001b[0mpop\u001b[0m\u001b[0;34m[\u001b[0m\u001b[0;34m'Valeur'\u001b[0m\u001b[0;34m]\u001b[0m\u001b[0;34m=\u001b[0m\u001b[0mpop\u001b[0m\u001b[0;34m[\u001b[0m\u001b[0;34m'Valeur'\u001b[0m\u001b[0;34m]\u001b[0m\u001b[0;34m*\u001b[0m\u001b[0;36m1000\u001b[0m\u001b[0;34m\u001b[0m\u001b[0;34m\u001b[0m\u001b[0m\n\u001b[1;32m      4\u001b[0m \u001b[0mpop\u001b[0m\u001b[0;34m=\u001b[0m\u001b[0mpop\u001b[0m\u001b[0;34m.\u001b[0m\u001b[0mrename\u001b[0m\u001b[0;34m(\u001b[0m\u001b[0mcolumns\u001b[0m\u001b[0;34m=\u001b[0m\u001b[0;34m{\u001b[0m\u001b[0;34m\"Valeur\"\u001b[0m\u001b[0;34m:\u001b[0m\u001b[0;34m\"population\"\u001b[0m\u001b[0;34m,\u001b[0m \u001b[0;34m\"Zone\"\u001b[0m\u001b[0;34m:\u001b[0m\u001b[0;34m\"pays\"\u001b[0m\u001b[0;34m,\u001b[0m \u001b[0;34m\"Code zone\"\u001b[0m\u001b[0;34m:\u001b[0m\u001b[0;34m\"zone\"\u001b[0m\u001b[0;34m}\u001b[0m\u001b[0;34m)\u001b[0m\u001b[0;34m\u001b[0m\u001b[0;34m\u001b[0m\u001b[0m\n\u001b[1;32m      5\u001b[0m \u001b[0mpop\u001b[0m\u001b[0;34m.\u001b[0m\u001b[0mhead\u001b[0m\u001b[0;34m(\u001b[0m\u001b[0;34m)\u001b[0m\u001b[0;34m\u001b[0m\u001b[0;34m\u001b[0m\u001b[0m\n",
      "\u001b[0;32m/usr/local/lib/python3.9/site-packages/pandas/io/parsers.py\u001b[0m in \u001b[0;36mread_csv\u001b[0;34m(filepath_or_buffer, sep, delimiter, header, names, index_col, usecols, squeeze, prefix, mangle_dupe_cols, dtype, engine, converters, true_values, false_values, skipinitialspace, skiprows, skipfooter, nrows, na_values, keep_default_na, na_filter, verbose, skip_blank_lines, parse_dates, infer_datetime_format, keep_date_col, date_parser, dayfirst, cache_dates, iterator, chunksize, compression, thousands, decimal, lineterminator, quotechar, quoting, doublequote, escapechar, comment, encoding, dialect, error_bad_lines, warn_bad_lines, delim_whitespace, low_memory, memory_map, float_precision)\u001b[0m\n\u001b[1;32m    684\u001b[0m     )\n\u001b[1;32m    685\u001b[0m \u001b[0;34m\u001b[0m\u001b[0m\n\u001b[0;32m--> 686\u001b[0;31m     \u001b[0;32mreturn\u001b[0m \u001b[0m_read\u001b[0m\u001b[0;34m(\u001b[0m\u001b[0mfilepath_or_buffer\u001b[0m\u001b[0;34m,\u001b[0m \u001b[0mkwds\u001b[0m\u001b[0;34m)\u001b[0m\u001b[0;34m\u001b[0m\u001b[0;34m\u001b[0m\u001b[0m\n\u001b[0m\u001b[1;32m    687\u001b[0m \u001b[0;34m\u001b[0m\u001b[0m\n\u001b[1;32m    688\u001b[0m \u001b[0;34m\u001b[0m\u001b[0m\n",
      "\u001b[0;32m/usr/local/lib/python3.9/site-packages/pandas/io/parsers.py\u001b[0m in \u001b[0;36m_read\u001b[0;34m(filepath_or_buffer, kwds)\u001b[0m\n\u001b[1;32m    450\u001b[0m \u001b[0;34m\u001b[0m\u001b[0m\n\u001b[1;32m    451\u001b[0m     \u001b[0;31m# Create the parser.\u001b[0m\u001b[0;34m\u001b[0m\u001b[0;34m\u001b[0m\u001b[0;34m\u001b[0m\u001b[0m\n\u001b[0;32m--> 452\u001b[0;31m     \u001b[0mparser\u001b[0m \u001b[0;34m=\u001b[0m \u001b[0mTextFileReader\u001b[0m\u001b[0;34m(\u001b[0m\u001b[0mfp_or_buf\u001b[0m\u001b[0;34m,\u001b[0m \u001b[0;34m**\u001b[0m\u001b[0mkwds\u001b[0m\u001b[0;34m)\u001b[0m\u001b[0;34m\u001b[0m\u001b[0;34m\u001b[0m\u001b[0m\n\u001b[0m\u001b[1;32m    453\u001b[0m \u001b[0;34m\u001b[0m\u001b[0m\n\u001b[1;32m    454\u001b[0m     \u001b[0;32mif\u001b[0m \u001b[0mchunksize\u001b[0m \u001b[0;32mor\u001b[0m \u001b[0miterator\u001b[0m\u001b[0;34m:\u001b[0m\u001b[0;34m\u001b[0m\u001b[0;34m\u001b[0m\u001b[0m\n",
      "\u001b[0;32m/usr/local/lib/python3.9/site-packages/pandas/io/parsers.py\u001b[0m in \u001b[0;36m__init__\u001b[0;34m(self, f, engine, **kwds)\u001b[0m\n\u001b[1;32m    944\u001b[0m             \u001b[0mself\u001b[0m\u001b[0;34m.\u001b[0m\u001b[0moptions\u001b[0m\u001b[0;34m[\u001b[0m\u001b[0;34m\"has_index_names\"\u001b[0m\u001b[0;34m]\u001b[0m \u001b[0;34m=\u001b[0m \u001b[0mkwds\u001b[0m\u001b[0;34m[\u001b[0m\u001b[0;34m\"has_index_names\"\u001b[0m\u001b[0;34m]\u001b[0m\u001b[0;34m\u001b[0m\u001b[0;34m\u001b[0m\u001b[0m\n\u001b[1;32m    945\u001b[0m \u001b[0;34m\u001b[0m\u001b[0m\n\u001b[0;32m--> 946\u001b[0;31m         \u001b[0mself\u001b[0m\u001b[0;34m.\u001b[0m\u001b[0m_make_engine\u001b[0m\u001b[0;34m(\u001b[0m\u001b[0mself\u001b[0m\u001b[0;34m.\u001b[0m\u001b[0mengine\u001b[0m\u001b[0;34m)\u001b[0m\u001b[0;34m\u001b[0m\u001b[0;34m\u001b[0m\u001b[0m\n\u001b[0m\u001b[1;32m    947\u001b[0m \u001b[0;34m\u001b[0m\u001b[0m\n\u001b[1;32m    948\u001b[0m     \u001b[0;32mdef\u001b[0m \u001b[0mclose\u001b[0m\u001b[0;34m(\u001b[0m\u001b[0mself\u001b[0m\u001b[0;34m)\u001b[0m\u001b[0;34m:\u001b[0m\u001b[0;34m\u001b[0m\u001b[0;34m\u001b[0m\u001b[0m\n",
      "\u001b[0;32m/usr/local/lib/python3.9/site-packages/pandas/io/parsers.py\u001b[0m in \u001b[0;36m_make_engine\u001b[0;34m(self, engine)\u001b[0m\n\u001b[1;32m   1176\u001b[0m     \u001b[0;32mdef\u001b[0m \u001b[0m_make_engine\u001b[0m\u001b[0;34m(\u001b[0m\u001b[0mself\u001b[0m\u001b[0;34m,\u001b[0m \u001b[0mengine\u001b[0m\u001b[0;34m=\u001b[0m\u001b[0;34m\"c\"\u001b[0m\u001b[0;34m)\u001b[0m\u001b[0;34m:\u001b[0m\u001b[0;34m\u001b[0m\u001b[0;34m\u001b[0m\u001b[0m\n\u001b[1;32m   1177\u001b[0m         \u001b[0;32mif\u001b[0m \u001b[0mengine\u001b[0m \u001b[0;34m==\u001b[0m \u001b[0;34m\"c\"\u001b[0m\u001b[0;34m:\u001b[0m\u001b[0;34m\u001b[0m\u001b[0;34m\u001b[0m\u001b[0m\n\u001b[0;32m-> 1178\u001b[0;31m             \u001b[0mself\u001b[0m\u001b[0;34m.\u001b[0m\u001b[0m_engine\u001b[0m \u001b[0;34m=\u001b[0m \u001b[0mCParserWrapper\u001b[0m\u001b[0;34m(\u001b[0m\u001b[0mself\u001b[0m\u001b[0;34m.\u001b[0m\u001b[0mf\u001b[0m\u001b[0;34m,\u001b[0m \u001b[0;34m**\u001b[0m\u001b[0mself\u001b[0m\u001b[0;34m.\u001b[0m\u001b[0moptions\u001b[0m\u001b[0;34m)\u001b[0m\u001b[0;34m\u001b[0m\u001b[0;34m\u001b[0m\u001b[0m\n\u001b[0m\u001b[1;32m   1179\u001b[0m         \u001b[0;32melse\u001b[0m\u001b[0;34m:\u001b[0m\u001b[0;34m\u001b[0m\u001b[0;34m\u001b[0m\u001b[0m\n\u001b[1;32m   1180\u001b[0m             \u001b[0;32mif\u001b[0m \u001b[0mengine\u001b[0m \u001b[0;34m==\u001b[0m \u001b[0;34m\"python\"\u001b[0m\u001b[0;34m:\u001b[0m\u001b[0;34m\u001b[0m\u001b[0;34m\u001b[0m\u001b[0m\n",
      "\u001b[0;32m/usr/local/lib/python3.9/site-packages/pandas/io/parsers.py\u001b[0m in \u001b[0;36m__init__\u001b[0;34m(self, src, **kwds)\u001b[0m\n\u001b[1;32m   2006\u001b[0m         \u001b[0mkwds\u001b[0m\u001b[0;34m[\u001b[0m\u001b[0;34m\"usecols\"\u001b[0m\u001b[0;34m]\u001b[0m \u001b[0;34m=\u001b[0m \u001b[0mself\u001b[0m\u001b[0;34m.\u001b[0m\u001b[0musecols\u001b[0m\u001b[0;34m\u001b[0m\u001b[0;34m\u001b[0m\u001b[0m\n\u001b[1;32m   2007\u001b[0m \u001b[0;34m\u001b[0m\u001b[0m\n\u001b[0;32m-> 2008\u001b[0;31m         \u001b[0mself\u001b[0m\u001b[0;34m.\u001b[0m\u001b[0m_reader\u001b[0m \u001b[0;34m=\u001b[0m \u001b[0mparsers\u001b[0m\u001b[0;34m.\u001b[0m\u001b[0mTextReader\u001b[0m\u001b[0;34m(\u001b[0m\u001b[0msrc\u001b[0m\u001b[0;34m,\u001b[0m \u001b[0;34m**\u001b[0m\u001b[0mkwds\u001b[0m\u001b[0;34m)\u001b[0m\u001b[0;34m\u001b[0m\u001b[0;34m\u001b[0m\u001b[0m\n\u001b[0m\u001b[1;32m   2009\u001b[0m         \u001b[0mself\u001b[0m\u001b[0;34m.\u001b[0m\u001b[0munnamed_cols\u001b[0m \u001b[0;34m=\u001b[0m \u001b[0mself\u001b[0m\u001b[0;34m.\u001b[0m\u001b[0m_reader\u001b[0m\u001b[0;34m.\u001b[0m\u001b[0munnamed_cols\u001b[0m\u001b[0;34m\u001b[0m\u001b[0;34m\u001b[0m\u001b[0m\n\u001b[1;32m   2010\u001b[0m \u001b[0;34m\u001b[0m\u001b[0m\n",
      "\u001b[0;32mpandas/_libs/parsers.pyx\u001b[0m in \u001b[0;36mpandas._libs.parsers.TextReader.__cinit__\u001b[0;34m()\u001b[0m\n",
      "\u001b[0;32mpandas/_libs/parsers.pyx\u001b[0m in \u001b[0;36mpandas._libs.parsers.TextReader._setup_parser_source\u001b[0;34m()\u001b[0m\n",
      "\u001b[0;31mFileNotFoundError\u001b[0m: [Errno 2] No such file or directory: '/Users/yassine/Desktop/data-python/fr_population.csv'"
     ]
    }
   ],
   "source": [
    "pop=pd.read_csv(\"/Users/yassine/Desktop/data-python/fr_population.csv\")\n",
    "pop=pop[['Zone','Valeur','Code zone']]\n",
    "pop['Valeur']=pop['Valeur']*1000\n",
    "pop=pop.rename(columns={\"Valeur\":\"population\", \"Zone\":\"pays\", \"Code zone\":\"zone\"})\n",
    "pop.head()"
   ]
  },
  {
   "cell_type": "code",
   "execution_count": null,
   "metadata": {},
   "outputs": [],
   "source": [
    "pop['population'].sum()"
   ]
  },
  {
   "cell_type": "code",
   "execution_count": null,
   "metadata": {},
   "outputs": [],
   "source": [
    "pop.duplicated()"
   ]
  },
  {
   "cell_type": "code",
   "execution_count": null,
   "metadata": {},
   "outputs": [],
   "source": [
    "pop.drop_duplicates(subset=['pays'], keep= False)\n",
    "pop=pop.loc[pop['pays']!= 'Chine',:]\n",
    "pop.shape\n",
    "pop['population'].sum()"
   ]
  },
  {
   "cell_type": "code",
   "execution_count": null,
   "metadata": {},
   "outputs": [],
   "source": [
    "pop=pop.loc[pop['pays']!= 'Chine',:]"
   ]
  },
  {
   "cell_type": "code",
   "execution_count": null,
   "metadata": {},
   "outputs": [],
   "source": [
    "pop.shape"
   ]
  },
  {
   "cell_type": "code",
   "execution_count": null,
   "metadata": {},
   "outputs": [],
   "source": [
    "pop['population'].sum()"
   ]
  },
  {
   "cell_type": "markdown",
   "metadata": {},
   "source": [
    "## Question 2 \n",
    "Identifier les redondances"
   ]
  },
  {
   "cell_type": "code",
   "execution_count": null,
   "metadata": {},
   "outputs": [],
   "source": [
    "# Import des données des bilans alimentaires \n",
    "veg = pd.read_csv(\"/Users/yassine/Desktop/data-python/fr_vegetaux.csv\")\n",
    "ani = pd.read_csv(\"/Users/yassine/Desktop/data-python/fr_animaux.csv\")\n",
    "\n",
    "\n",
    "# Ajout de la variable origin\n",
    "ani[\"Origine\"] = \"animale\"\n",
    "veg[\"Origine\"] = \"vegetale\"\n",
    "\n",
    "\n",
    "# On regroupe veg et ani en un unique dataframe, via une union\n",
    "temp = ani.append(veg)\n",
    "\n",
    "\n",
    "# Suppression de ani et veg\n",
    "del ani, veg\n",
    "\n",
    "\n",
    "# Transformation de temp en table pivot\n",
    "data = temp.pivot_table(index=[\"Zone\",\"Produit\",\"Code Produit\",\"Origine\"],\n",
    "                        columns = [\"Élément\"], values=[\"Valeur\"], aggfunc=sum)\n",
    "\n",
    "data.columns = ['Aliments pour animaux', 'Autres Utilisations', 'Disponibilité alimentaire (Kcal/personne/jour)', \n",
    "                'Disponibilité alimentaire en quantité (kg/personne/an)', \n",
    "                'Disponibilité de matière grasse en quantité (g/personne/jour)', \n",
    "                'Disponibilité de protéines en quantité (g/personne/jour)', 'Disponibilité intérieure', \n",
    "                'Exportations - Quantité', 'Importations - Quantité', 'Nourriture', 'Pertes', 'Production', \n",
    "                'Semences', 'Traitement', 'Variation de stock']\n",
    "\n",
    "\n",
    "dispo_alimentaire = data.reset_index()\n",
    "\n",
    "#Nourriture = nouriture pour humain\n",
    "\n",
    "dispo_alimentaire.head()\n"
   ]
  },
  {
   "cell_type": "code",
   "execution_count": null,
   "metadata": {},
   "outputs": [],
   "source": [
    "listecolonne = ['Aliments pour animaux', 'Autres Utilisations', 'Disponibilité intérieure', \n",
    "                'Exportations - Quantité', 'Importations - Quantité', 'Nourriture', 'Pertes', 'Production', \n",
    "                'Semences', 'Traitement', 'Variation de stock']\n",
    "\n",
    "\n",
    "for colonne in listecolonne :\n",
    "    dispo_alimentaire[colonne] = dispo_alimentaire[colonne] * 1000000\n"
   ]
  },
  {
   "cell_type": "markdown",
   "metadata": {},
   "source": [
    "## Question 3 \n",
    "Calculez (pour chaque pays et chaque produit) la disponibilité alimentaire en kcal puis en kg de protéines."
   ]
  },
  {
   "cell_type": "code",
   "execution_count": null,
   "metadata": {},
   "outputs": [],
   "source": [
    "dispo_alimentaire=dispo_alimentaire.rename(columns={\"Zone\":\"pays\"})\n",
    "dispo_alimentaire=dispo_alimentaire.merge(pop,on=\"pays\")\n",
    "dispo_alimentaire.head()\n",
    "dispo_alimentaire['Dispokcal']= dispo_alimentaire ['Disponibilité alimentaire (Kcal/personne/jour)']*dispo_alimentaire['population']*365\n",
    "dispo_alimentaire.head()\n",
    "dispo_alimentaire['Dispoperproteine']=dispo_alimentaire ['Disponibilité de protéines en quantité (g/personne/jour)']*dispo_alimentaire['population']*365/1000\n",
    "dispo_alimentaire.head()"
   ]
  },
  {
   "cell_type": "code",
   "execution_count": null,
   "metadata": {},
   "outputs": [],
   "source": [
    "dispo_alimentaire=dispo_alimentaire.merge(pop,on=\"pays\")\n",
    "dispo_alimentaire.head()"
   ]
  },
  {
   "cell_type": "code",
   "execution_count": null,
   "metadata": {},
   "outputs": [],
   "source": [
    "dispo_alimentaire['Dispokcal'] = dispo_alimentaire ['Disponibilité alimentaire (Kcal/personne/jour)']*pop['population']*365\n",
    "dispo_alimentaire.head()"
   ]
  },
  {
   "cell_type": "code",
   "execution_count": null,
   "metadata": {},
   "outputs": [],
   "source": [
    "dispo_alimentaire['Dispoperproteine']=dispo_alimentaire ['Disponibilité de protéines en quantité (g/personne/jour)']*pop['population']*365/1000\n",
    "dispo_alimentaire.head()"
   ]
  },
  {
   "cell_type": "markdown",
   "metadata": {},
   "source": [
    "## Question 4 \n",
    "Calculez pour chaque produit le ratio energie/poids"
   ]
  },
  {
   "cell_type": "code",
   "execution_count": null,
   "metadata": {},
   "outputs": [],
   "source": [
    "dispo_alimentaire['Ratioenergiepoid']=dispo_alimentaire['Dispokcal']/ dispo_alimentaire ['Nourriture']\n",
    "dispo_alimentaire['Ratioperproteine']=dispo_alimentaire['Dispoperproteine']/ dispo_alimentaire ['Nourriture']\n",
    "dispo_alimentaire.head()\n",
    "dispo_alimentaire = dispo_alimentaire.replace([np.inf, -np.inf],np.nan)\n",
    "ratio =dispo_alimentaire.groupby ('Produit').mean()\n",
    "ratio =ratio.reset_index()\n",
    "ratio.head()\n",
    "ratio =ratio[['Produit', 'Ratioenergiepoid', 'Ratioperproteine']]\n",
    "ratio.loc[ratio['Produit'] == 'Oeufs',:]\n",
    "ratio =ratio[['Produit', 'Ratioenergiepoid', 'Ratioperproteine']]\n",
    "ratio.loc[ratio['Produit'] == 'Avoine',:]"
   ]
  },
  {
   "cell_type": "code",
   "execution_count": null,
   "metadata": {},
   "outputs": [],
   "source": [
    "dispo_alimentaire = dispo_alimentaire.replace([np.inf, -np.inf],np.nan)\n",
    "ratio =dispo_alimentaire.groupby ('Produit').mean()\n",
    "ratio =ratio.reset_index()\n",
    "ratio.head()"
   ]
  },
  {
   "cell_type": "code",
   "execution_count": null,
   "metadata": {},
   "outputs": [],
   "source": [
    "ratio =ratio[['Produit', 'Ratioenergiepoid', 'Ratioperproteine']]\n",
    "ratio.loc[ratio['Produit'] == 'Oeufs',:]"
   ]
  },
  {
   "cell_type": "markdown",
   "metadata": {},
   "source": [
    "la teneur en proteine de l'avoine"
   ]
  },
  {
   "cell_type": "code",
   "execution_count": null,
   "metadata": {},
   "outputs": [],
   "source": [
    "ratio =ratio[['Produit', 'Ratioenergiepoid', 'Ratioperproteine']]\n",
    "ratio.loc[ratio['Produit'] == 'Avoine',:]"
   ]
  },
  {
   "cell_type": "markdown",
   "metadata": {},
   "source": [
    "## Question 5\n",
    "Citez 5 aliments parmi les 20 aliments les plus caloriques"
   ]
  },
  {
   "cell_type": "code",
   "execution_count": null,
   "metadata": {},
   "outputs": [],
   "source": [
    "ratio.sort_values (by = 'Ratioenergiepoid', ascending = False)"
   ]
  },
  {
   "cell_type": "markdown",
   "metadata": {},
   "source": [
    "## Question 6\n",
    "Calculez pour les produits végétaux la dispo interieur mondiale exprimé en kcal"
   ]
  },
  {
   "cell_type": "code",
   "execution_count": null,
   "metadata": {},
   "outputs": [],
   "source": [
    "dfvegetaux = dispo_alimentaire.loc[dispo_alimentaire['Origine'] == 'vegetale',:]\n",
    "dfvegetaux.head()"
   ]
  },
  {
   "cell_type": "code",
   "execution_count": null,
   "metadata": {},
   "outputs": [],
   "source": [
    "dfvegetaux['dispointerieurKcal'] = dfvegetaux ['Disponibilité intérieure'] * dfvegetaux ['Ratioenergiepoid']\n",
    "dfvegetaux.head()"
   ]
  },
  {
   "cell_type": "markdown",
   "metadata": {},
   "source": [
    "## Question 7\n",
    "Combien d'humains pourraient être nourris si toute la disponibilité intérieur mondiale de produits végétaux était utilisé pour de la nourriture"
   ]
  },
  {
   "cell_type": "markdown",
   "metadata": {},
   "source": [
    "En termes de calories sachant qu'en moyenne une personne a besoin de 2350 calories par jour"
   ]
  },
  {
   "cell_type": "code",
   "execution_count": null,
   "metadata": {},
   "outputs": [],
   "source": [
    "resp1 = dfvegetaux['dispointerieurKcal'].sum()/365 / 2500\n",
    "KG_PROT_PER_CAPITA_PER_DAY = 62 * .9 * .001\n",
    "dfvegetaux['dispointerieurprot'] = dfvegetaux ['Disponibilité intérieure'] * dfvegetaux ['Ratioperproteine']\n",
    "dfvegetaux.head()\n",
    "resp2 = dfvegetaux['dispointerieurprot'].sum()/KG_PROT_PER_CAPITA_PER_DAY\n",
    "resp1"
   ]
  },
  {
   "cell_type": "markdown",
   "metadata": {},
   "source": [
    "Ce qui represente en pourcentage "
   ]
  },
  {
   "cell_type": "markdown",
   "metadata": {},
   "source": [
    "## Question 8\n"
   ]
  },
  {
   "cell_type": "code",
   "execution_count": null,
   "metadata": {},
   "outputs": [],
   "source": [
    "q_kcal = dfvegetaux[\"dispointerieurKcal\"].sum()\n",
    "q_kgprot = dfvegetaux[\"dispointerieurprot\"].sum()\n",
    "quantity = pd.DataFrame({\"kcal\": q_kcal, \"kgprot\": q_kgprot}, index=[0])\n",
    "\n",
    "quantity"
   ]
  },
  {
   "cell_type": "code",
   "execution_count": null,
   "metadata": {},
   "outputs": [],
   "source": [
    "NB_KCAL_PER_CAPITA_PER_DAY = 2500\n",
    "repQ81 = quantity[\"kcal\"] / NB_KCAL_PER_CAPITA_PER_DAY\n",
    "repQ81Pourcent = format(round(repQ81/1000000000,2))\n",
    "sumkcal = quantity[\"kcal\"].sum()\n",
    "persNourrie = sumKcal / 365 \n",
    "persNourrie"
   ]
  },
  {
   "cell_type": "code",
   "execution_count": null,
   "metadata": {},
   "outputs": [],
   "source": [
    "KG_PROT_PER_CAPITA_PER_DAY = 62 * .9 * .001\n",
    "repQ82 = quantity[\"kgprot\"] / KG_PROT_PER_CAPITA_PER_DAY\n",
    "repQ82Pourcent = format(round(repQ81/1000000000,2))\n"
   ]
  },
  {
   "cell_type": "markdown",
   "metadata": {},
   "source": [
    "## question 9"
   ]
  },
  {
   "cell_type": "code",
   "execution_count": null,
   "metadata": {},
   "outputs": [],
   "source": [
    "\n",
    "dispoG = dispo_alimentaire[\"Disponibilité de matière grasse en quantité (g/personne/jour)\"].sum() + dispo_alimentaire['Disponibilité de protéines en quantité (g/personne/jour)'].sum() + (dispo_alimentaire['Disponibilité alimentaire en quantité (kg/personne/an)'].sum() * 1000) \n",
    "dispoKcal = dispo_alimentaire['Disponibilité alimentaire (Kcal/personne/jour)'].sum() * 1000000 * dispo_alimentaire[\"Ratioenergiepoid\"]\n",
    "\n",
    "quantityQ9 = pd.DataFrame({\"kcal\": dispoKcal, \"kgprot\": dispoG}, index=[0])\n",
    "\n",
    "\n",
    "quantityQ9['kcal']\n"
   ]
  },
  {
   "cell_type": "code",
   "execution_count": null,
   "metadata": {},
   "outputs": [],
   "source": [
    "NB_KCAL_PER_CAPITA_PER_DAY = 2500\n",
    "repQ91 = quantityQ9[\"kcal\"] / NB_KCAL_PER_CAPITA_PER_DAY\n",
    "repQ91Pourcent = format(round(repQ91/1000000000,2))\n",
    "\n",
    "KG_PROT_PER_CAPITA_PER_DAY = 62 * .9 * .001\n",
    "repQ92 = quantityQ9[\"kgprot\"] / KG_PROT_PER_CAPITA_PER_DAY\n",
    "repQ92Pourcent = format(round(repQ92/1000000000,2))\n",
    "\n",
    "repQ91Pourcent"
   ]
  },
  {
   "cell_type": "markdown",
   "metadata": {},
   "source": [
    "## Question 10"
   ]
  },
  {
   "cell_type": "code",
   "execution_count": null,
   "metadata": {},
   "outputs": [],
   "source": [
    "sousAlimentationCsv = pd.read_csv(\"/Users/yassine/Desktop/data-python/fr_sousalimentation.csv\")\n",
    "sousAlimentationCsv"
   ]
  },
  {
   "cell_type": "code",
   "execution_count": null,
   "metadata": {},
   "outputs": [],
   "source": [
    "sousAlimentationCsv = pd.read_csv(\"/Users/yassine/Desktop/data-python/fr_sousalimentation.csv\")\n",
    "sousAlimentationCsv=sousAlimentationCsv[['Code année','Code zone','Zone','Produit','Valeur','Année']]\n",
    "sousAlimentationCsv[\"Valeur\"] = pd.to_numeric(sousAlimentationCsv[\"Valeur\"],errors='coerce')\n",
    "sousAlimentationCsv['underfeed'] = sousAlimentationCsv['Valeur'] * 1000000\n",
    "sousAlimentationCsv = sousAlimentationCsv.loc[(sousAlimentationCsv['Code année'] == 20122014 )]\n",
    "sousAlimentationCsv = sousAlimentationCsv.groupby(['Zone']).sum()\n",
    "sousAlimentationCsv"
   ]
  },
  {
   "cell_type": "code",
   "execution_count": null,
   "metadata": {},
   "outputs": [],
   "source": [
    "sousAlimentationCsv = sousAlimentationCsv.loc[(sousAlimentationCsv['Code année'] == 20122014 )]\n",
    "sousAlimentationCsv = sousAlimentationCsv.groupby(['Zone']).sum()\n",
    "sousAlimentationCsv"
   ]
  },
  {
   "cell_type": "code",
   "execution_count": null,
   "metadata": {},
   "outputs": [],
   "source": [
    "pop=pd.read_csv(\"/Users/yassine/Desktop/data-python/fr_population.csv\")\n",
    "pop=pop[['Zone','Valeur','Code zone']]\n",
    "pop['Valeur']=pop['Valeur']*1000\n",
    "pop=pop.rename(columns={\"Valeur\":\"population\", \"Zone\":\"pays\", \"Code zone\":\"zone\"})\n",
    "pop"
   ]
  },
  {
   "cell_type": "code",
   "execution_count": null,
   "metadata": {},
   "outputs": [],
   "source": [
    "\n",
    "##\n",
    "sousAlimentationPopulation = pd.merge(left=sousAlimentationCsv, right=pop, left_on='Code zone', right_on='zone')\n",
    "sousAlimentationPopulation['ProportionSsAlimentPopulation'] = (sousAlimentationPopulation['underfeed/perYear'] * 100) / sousAlimentationPopulation['population']\n",
    "\n",
    "## moyenne Pourcentage Mondial des personne sur une année\n",
    "\n",
    "pourcentSousAlimentationWorld = (sousAlimentationPopulation['underfeed/perYear'].sum() * 100) / sousAlimentationPopulation['population'].sum()\n",
    "\n",
    "sousAlimentationPopulation\n"
   ]
  },
  {
   "cell_type": "markdown",
   "metadata": {},
   "source": [
    "## Question 11"
   ]
  },
  {
   "cell_type": "code",
   "execution_count": null,
   "metadata": {},
   "outputs": [],
   "source": [
    "\n",
    "\n",
    "## http://www.fao.org/in-action/inpho/crop-compendium/cereals-grains/fr/?page=1&ipp=7&no_cache=1&tx_dynalist_pi1[par]=YToxOntzOjE6IkwiO3M6MToiMSI7fQ==\n",
    "\n",
    "##Repérez dans vos données les informations concernant les céréales (par exemple en créant une colonne de type booléen nommée \"is_cereal\").\n",
    "\n",
    "## : En ne prenant en compte que les céréales destinées à l'alimentation (humaine et animale), \n",
    "cerealsCsv = pd.read_csv(\"/Users/yassine/Desktop/data-python/fr_céréales.csv\")\n",
    "\n",
    "cerealsCsv['is_cereals'] = 'false'\n",
    "cerealsCsv.loc[cerealsCsv['Produit'] == 'Maïs', ['is_cereals']] = 'true'\n",
    "cerealsCsv.loc[cerealsCsv['Produit'] == 'Millet', ['is_cereals']] = 'true'\n",
    "cerealsCsv.loc[cerealsCsv['Produit'] == 'Blé', ['is_cereals']] = 'true'\n",
    "cerealsCsv.loc[cerealsCsv['Produit'] == 'Riz (Eq Blanchi)', ['is_cereals']] = 'true'\n",
    "cerealsCsv.loc[cerealsCsv['Produit'] == 'Orge', ['is_cereals']] = 'true'\n",
    "cerealsCsv.loc[cerealsCsv['Produit'] == 'Sorgho', ['is_cereals']] = 'true'\n",
    "cerealsCsv = cerealsCsv.rename(columns={\"Valeur\":\"populationSsAlimenter\"})\n",
    "\n",
    "cerealsCsv"
   ]
  },
  {
   "cell_type": "code",
   "execution_count": null,
   "metadata": {},
   "outputs": [],
   "source": [
    "cerealsCsv = cerealsCsv[['Code zone','Zone','Unité','populationSsAlimenter','Code Produit','is_cereals']]\n",
    "cerealsCsv"
   ]
  },
  {
   "cell_type": "code",
   "execution_count": null,
   "metadata": {},
   "outputs": [],
   "source": [
    "daAnimal = dispo_alimentaire.loc[dispo_alimentaire['Origine'] == 'animale',:]\n",
    "daAnimal['Aliments pour animaux'] = daAnimal['Aliments pour animaux'].astype(float)"
   ]
  },
  {
   "cell_type": "code",
   "execution_count": null,
   "metadata": {},
   "outputs": [],
   "source": [
    "animalCereal = pd.concat([daAnimal, cerealsCsv], axis=1, join='inner')\n",
    "animalCereal"
   ]
  },
  {
   "cell_type": "code",
   "execution_count": null,
   "metadata": {
    "scrolled": true
   },
   "outputs": [],
   "source": [
    "##En ne prenant en compte que les céréales destinées à l'alimentation (humaine et animale), \n",
    "##quelle proportion (en termes de poids) est destinée à l'alimentation animale \n",
    "\n",
    "isCereal = animalCereal.loc[animalCereal['is_cereals'] == 'true',:]\n",
    "tchekValuesAnimalCereal = isCereal.loc[isCereal['Aliments pour animaux'] > 0,:]\n",
    "sumAlimentPourAnimaux = tchekValuesAnimalCereal['Aliments pour animaux'].sum()\n",
    "tchekValuesAnimalCereal['ProportionFoodAnimalsByGlobalFood'] = tchekValuesAnimalCereal['Nourriture'] /  (tchekValuesAnimalCereal['Nourriture'] + tchekValuesAnimalCereal['Aliments pour animaux'])\n",
    "tchekValuesAnimalCereal\n"
   ]
  },
  {
   "cell_type": "code",
   "execution_count": null,
   "metadata": {},
   "outputs": [],
   "source": [
    "sumAlimentPourAnimaux"
   ]
  },
  {
   "cell_type": "code",
   "execution_count": null,
   "metadata": {},
   "outputs": [],
   "source": [
    "sumNourritues = tchekValuesAnimalCereal['Nourriture'].sum()\n",
    "globalproportionFoodAnimalsByGlobalFood = sumNourritues /  (sumAlimentPourAnimaux + sumAlimentPourAnimaux)\n",
    "\n",
    "globalproportionFoodAnimalsByGlobalFood"
   ]
  },
  {
   "cell_type": "code",
   "execution_count": null,
   "metadata": {},
   "outputs": [],
   "source": [
    "## Sélectionnez parmi les données des bilans alimentaires les informations .\n",
    "## relatives aux pays dans lesquels la FAO recense des personnes en sous-nutrition\n",
    "\n",
    "\n",
    "dispoSsAlimPop = pd.concat([dispo_alimentaire, sousAlimentationPopulation], axis=1, join='inner')\n",
    "\n",
    "dispoSsAlimPop.columns\n"
   ]
  },
  {
   "cell_type": "code",
   "execution_count": null,
   "metadata": {},
   "outputs": [],
   "source": [
    "unsetImportationNoneValues = dispoSsAlimPop.loc[dispoSsAlimPop['Importations - Quantité'] > 0,:]\n",
    "unsetImportationNoneValues.sort_values('Importations - Quantité')\n",
    "unsetImportationNoneValues\n",
    "importations = unsetImportationNoneValues[['Code zone','Zone','Produit','Importations - Quantité']]\n",
    "rankImportations = importations.sort_values(by=['Importations - Quantité'], ascending=False)[:15]\n",
    "rankImportations\n",
    "\n"
   ]
  },
  {
   "cell_type": "code",
   "execution_count": null,
   "metadata": {},
   "outputs": [],
   "source": [
    "##Parmi les données des bilans alimentaires au niveau mondial, sélectionnez \n",
    "##les 200 plus grandes importations de ces produits \n",
    "##(1 importation = une quantité d'un produit donné importée par un pays donné)\n",
    "\n",
    "rankImportation200 = importations.sort_values(by=['Importations - Quantité'])[:200]\n",
    "\n",
    "rankImportation200\n",
    "\n",
    "\n",
    "##rep \n",
    "\n",
    "##imp = data[(data.item.isin(exported_products)) & (data.year == YEAR)]\n",
    "##imp.sort_values(\"Import Quantity\").iloc[200:,]"
   ]
  },
  {
   "cell_type": "code",
   "execution_count": null,
   "metadata": {},
   "outputs": [],
   "source": [
    "\n",
    "pd = rankImportation200.groupby(\"Produit\")\n",
    "\n",
    "pd"
   ]
  },
  {
   "cell_type": "code",
   "execution_count": null,
   "metadata": {},
   "outputs": [],
   "source": [
    "dispo_alimentaire.columns\n",
    "dispo_alimentaire=dispo_alimentaire.rename(columns={\"Zone\":\"zone\"})"
   ]
  },
  {
   "cell_type": "code",
   "execution_count": null,
   "metadata": {},
   "outputs": [],
   "source": [
    "sousAlimentationPopulation"
   ]
  },
  {
   "cell_type": "markdown",
   "metadata": {},
   "source": [
    "## fin de la 11"
   ]
  },
  {
   "cell_type": "markdown",
   "metadata": {},
   "source": [
    "## Question 12"
   ]
  },
  {
   "cell_type": "code",
   "execution_count": null,
   "metadata": {},
   "outputs": [],
   "source": [
    "ratiodisp_inter = dispo_alimentaire[['produit', 'ratioDispoInterieur']].sort_values('ratioDispoInterieur', ascending=False)[:3]\n",
    "\n",
    "ratioanim_hum = dispo_alimentaire[['produit', 'ratioAlimentPourAnimaux']].sort_values('ratioAlimentPourAnimaux', ascending=False)\\[:3]"
   ]
  },
  {
   "cell_type": "markdown",
   "metadata": {},
   "source": [
    "## Question 13"
   ]
  },
  {
   "cell_type": "code",
   "execution_count": null,
   "metadata": {},
   "outputs": [],
   "source": [
    "\n",
    "qt_cere_pr_anim_ktonne = dispo_alimentaire.loc[\n",
    "    (dispo_alimentaire.pays == \"États-Unis d'Amérique\")\n",
    "    & (dispo_alimentaire.is_cereals == true),\n",
    "    \"alim_pr_anim__ktonne\"\n",
    "].sum()\n",
    "\n",
    "qt_cere_pr_anim_ktonne"
   ]
  },
  {
   "cell_type": "markdown",
   "metadata": {},
   "source": [
    "## question 14"
   ]
  },
  {
   "cell_type": "code",
   "execution_count": null,
   "metadata": {},
   "outputs": [],
   "source": [
    "thailande = dispo_alimentaire.loc[\n",
    "    (dispo_alimentaire'pays'] == 'Thaïlande')\n",
    "    &(dispo_alimentaire['produit'] == 'Manioc'),\n",
    "].iloc[0]\n",
    "\n",
    "proportion_manioc_export = thailande['export__ktonne'] / thailande['prod__ktonne']\n",
    "proportion_per_ss_alim = thailande['pop_ss_alim'] / sr['pop']"
   ]
  }
 ],
 "metadata": {
  "kernelspec": {
   "display_name": "Python 3",
   "language": "python",
   "name": "python3"
  },
  "language_info": {
   "codemirror_mode": {
    "name": "ipython",
    "version": 3
   },
   "file_extension": ".py",
   "mimetype": "text/x-python",
   "name": "python",
   "nbconvert_exporter": "python",
   "pygments_lexer": "ipython3",
   "version": "3.9.0"
  }
 },
 "nbformat": 4,
 "nbformat_minor": 4
}
