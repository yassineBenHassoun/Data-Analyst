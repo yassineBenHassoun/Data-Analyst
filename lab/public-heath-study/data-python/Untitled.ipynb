{
 "cells": [
  {
   "cell_type": "code",
   "execution_count": 1,
   "metadata": {},
   "outputs": [],
   "source": [
    "\n",
    "import pandas as pd\n",
    "import numpy as np\n",
    "\n",
    "\n",
    "vegetauxCsv = pd.read_csv(\"/Users/yassine/Desktop/data-python/fr_vegetaux.csv\")\n",
    "dateV = vegetauxCsv.loc[vegetauxCsv['Année'] == 2013] \n",
    "r = dateV[dateV['Unité'] == 'Kcal/personne/jour']\n",
    "disponibiliteAlimentParPersonneParJour = r[r['Élément'] == 'Disponibilité alimentaire (Kcal/personne/jour)']\n",
    "\n",
    "\n",
    "populationCsvToArray = pd.read_csv(\"/Users/yassine/Desktop/data-python/fr_population.csv\", sep=',')\n",
    "populationBydate = populationCsvToArray.loc[populationCsvToArray['Année'] == 2013]\n",
    "filtered_df = populationBydate[(populationBydate['Code zone'] != 96) & (populationBydate['Code zone'] != 41) & (populationBydate['Code zone'] != 128) & (populationBydate['Code zone'] != 214)]\n",
    "populationRemoveDuplicateByCountries =  filtered_df.drop_duplicates(subset='Code zone', keep=\"last\")\n",
    "populationRemoveDuplicateByCountries.rename(columns={'Zone':'Pays'}, inplace=True)\n",
    "dropPop = populationRemoveDuplicateByCountries.drop(['Élément','Code Produit','Symbole','Domaine','Code Domaine','Code Élément','Code année','Description du Symbole'], axis=1)\n",
    "dropPop['Population'] = dropPop['Valeur'] * 1000\n",
    "countries = dropPop\n",
    "\n",
    "\n",
    "\n",
    "population = countries['Population'].sum()\n",
    "sumDipo = disponibiliteAlimentParPersonneParJour['Valeur'].sum()\n",
    "\n",
    "\n",
    "res = (sumDipo - population) / population * 100"
   ]
  },
  {
   "cell_type": "code",
   "execution_count": null,
   "metadata": {},
   "outputs": [],
   "source": []
  },
  {
   "cell_type": "code",
   "execution_count": null,
   "metadata": {},
   "outputs": [],
   "source": []
  },
  {
   "cell_type": "code",
   "execution_count": null,
   "metadata": {},
   "outputs": [],
   "source": []
  },
  {
   "cell_type": "code",
   "execution_count": null,
   "metadata": {},
   "outputs": [],
   "source": []
  },
  {
   "cell_type": "code",
   "execution_count": null,
   "metadata": {},
   "outputs": [],
   "source": []
  }
 ],
 "metadata": {
  "kernelspec": {
   "display_name": "Python 3",
   "language": "python",
   "name": "python3"
  },
  "language_info": {
   "codemirror_mode": {
    "name": "ipython",
    "version": 3
   },
   "file_extension": ".py",
   "mimetype": "text/x-python",
   "name": "python",
   "nbconvert_exporter": "python",
   "pygments_lexer": "ipython3",
   "version": "3.8.3"
  }
 },
 "nbformat": 4,
 "nbformat_minor": 4
}
