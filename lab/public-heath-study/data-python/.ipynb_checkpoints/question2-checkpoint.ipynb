{
 "cells": [
  {
   "cell_type": "code",
   "execution_count": null,
   "metadata": {},
   "outputs": [],
   "source": [
    "data[\"tmp1\"] = data['Production'] + data['Import Quantity'] - data['Export Quantity'] + data['Stock Variation']\n",
    "data[\"tmp2\"] = data['Domestic supply quantity']\n",
    "data[\"tmp3\"] = data['Feed'] + data['Food'] + data['Other uses'] + data['Processing'] + data['Seed'] + data['Waste']"
   ]
  }
 ],
 "metadata": {
  "kernelspec": {
   "display_name": "Python 3",
   "language": "python",
   "name": "python3"
  },
  "language_info": {
   "codemirror_mode": {
    "name": "ipython",
    "version": 3
   },
   "file_extension": ".py",
   "mimetype": "text/x-python",
   "name": "python",
   "nbconvert_exporter": "python",
   "pygments_lexer": "ipython3",
   "version": "3.8.3"
  }
 },
 "nbformat": 4,
 "nbformat_minor": 4
}
