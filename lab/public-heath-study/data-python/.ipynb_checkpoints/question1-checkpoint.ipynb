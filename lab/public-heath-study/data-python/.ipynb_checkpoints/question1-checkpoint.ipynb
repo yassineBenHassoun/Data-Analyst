{
 "cells": [
  {
   "cell_type": "code",
   "execution_count": 1,
   "metadata": {},
   "outputs": [
    {
     "data": {
      "text/plain": [
       "6997326"
      ]
     },
     "execution_count": 1,
     "metadata": {},
     "output_type": "execute_result"
    }
   ],
   "source": [
    "import pandas as pd\n",
    "import csv\n",
    "\n",
    "cerealeCsv = pd.read_csv(\"/Users/yassine/Desktop/data-python/fr_céréales.csv\", sep=',')\n",
    "populationCsvToArray = pd.read_csv(\"/Users/yassine/Desktop/data-python/fr_population.csv\", sep=',')\n",
    "populationBydate = populationCsvToArray.loc[populationCsvToArray['Année'] == 2013]\n",
    "filtered_df = populationBydate[(populationBydate['Code zone'] != 96) & (populationBydate['Code zone'] != 41) & (populationBydate['Code zone'] != 128) & (populationBydate['Code zone'] != 214)]\n",
    "populationRemoveDuplicateByCountries =  filtered_df.drop_duplicates(subset='Code zone', keep=\"last\")\n",
    "populationTotalByDate = populationRemoveDuplicateByCountries['Valeur'].sum();\n",
    "populationTotalByDate\n"
   ]
  },
  {
   "cell_type": "code",
   "execution_count": null,
   "metadata": {},
   "outputs": [],
   "source": []
  }
 ],
 "metadata": {
  "kernelspec": {
   "display_name": "Python 3",
   "language": "python",
   "name": "python3"
  },
  "language_info": {
   "codemirror_mode": {
    "name": "ipython",
    "version": 3
   },
   "file_extension": ".py",
   "mimetype": "text/x-python",
   "name": "python",
   "nbconvert_exporter": "python",
   "pygments_lexer": "ipython3",
   "version": "3.8.3"
  }
 },
 "nbformat": 4,
 "nbformat_minor": 4
}
